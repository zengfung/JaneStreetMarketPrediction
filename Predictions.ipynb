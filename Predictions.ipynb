{
  "nbformat": 4,
  "nbformat_minor": 5,
  "metadata": {
    "kernelspec": {
      "display_name": "Python 3",
      "language": "python",
      "name": "python3"
    },
    "language_info": {
      "codemirror_mode": {
        "name": "ipython",
        "version": 3
      },
      "file_extension": ".py",
      "mimetype": "text/x-python",
      "name": "python",
      "nbconvert_exporter": "python",
      "pygments_lexer": "ipython3",
      "version": "3.7.7"
    },
    "latex_envs": {
      "LaTeX_envs_menu_present": true,
      "autoclose": true,
      "autocomplete": true,
      "bibliofile": "biblio.bib",
      "cite_by": "apalike",
      "current_citInitial": 1,
      "eqLabelWithNumbers": true,
      "eqNumInitial": 1,
      "hotkeys": {
        "equation": "Ctrl-E",
        "itemize": "Ctrl-I"
      },
      "labels_anchors": false,
      "latex_user_defs": false,
      "report_style_numbering": false,
      "user_envs_cfg": false
    },
    "varInspector": {
      "cols": {
        "lenName": 16,
        "lenType": 16,
        "lenVar": 40
      },
      "kernels_config": {
        "python": {
          "delete_cmd_postfix": "",
          "delete_cmd_prefix": "del ",
          "library": "var_list.py",
          "varRefreshCmd": "print(var_dic_list())"
        },
        "r": {
          "delete_cmd_postfix": ") ",
          "delete_cmd_prefix": "rm(",
          "library": "var_list.r",
          "varRefreshCmd": "cat(var_dic_list()) "
        }
      },
      "types_to_exclude": [
        "module",
        "function",
        "builtin_function_or_method",
        "instance",
        "_Feature"
      ],
      "window_display": false
    },
    "colab": {
      "name": "Predictions.ipynb",
      "provenance": []
    }
  },
  "cells": [
    {
      "cell_type": "markdown",
      "metadata": {
        "id": "operating-phrase"
      },
      "source": [
        "## Import Dataset"
      ],
      "id": "operating-phrase"
    },
    {
      "cell_type": "code",
      "metadata": {
        "id": "vPIjfcr3Wm5d"
      },
      "source": [
        "# Import PyDrive and associated libraries.\n",
        "# This only needs to be done once per notebook.\n",
        "from pydrive.auth import GoogleAuth\n",
        "from pydrive.drive import GoogleDrive\n",
        "from google.colab import auth\n",
        "from oauth2client.client import GoogleCredentials\n",
        "\n",
        "# Authenticate and create the PyDrive client.\n",
        "# This only needs to be done once per notebook.\n",
        "auth.authenticate_user()\n",
        "gauth = GoogleAuth()\n",
        "gauth.credentials = GoogleCredentials.get_application_default()\n",
        "drive = GoogleDrive(gauth)\n",
        "\n",
        "# Download a file based on its file ID.\n",
        "#\n",
        "# A file ID looks like: laggVyWshwcyP6kEI-y_W3P8D26sz\n",
        "file_id = '1nY2omcehf6SoKyJxB7k5zCyTxhHVFfv3'\n",
        "downloaded = drive.CreateFile({'id': file_id})\n",
        "print('Downloaded content \"{}\"'.format(downloaded.GetContentString()))"
      ],
      "id": "vPIjfcr3Wm5d",
      "execution_count": null,
      "outputs": []
    },
    {
      "cell_type": "code",
      "metadata": {
        "id": "efficient-wilson"
      },
      "source": [
        "import pandas as pd\n",
        "\n",
        "downloaded.GetContentFile(\"input_data.csv\")\n",
        "x = pd.read_csv(\"input_data.csv\")"
      ],
      "id": "efficient-wilson",
      "execution_count": null,
      "outputs": []
    },
    {
      "cell_type": "code",
      "metadata": {
        "id": "0uDK8IoSXX0q",
        "outputId": "7b061a12-5135-4f3a-d3b9-9b1f0edef008",
        "colab": {
          "base_uri": "https://localhost:8080/"
        }
      },
      "source": [
        "# Import PyDrive and associated libraries.\r\n",
        "# This only needs to be done once per notebook.\r\n",
        "from pydrive.auth import GoogleAuth\r\n",
        "from pydrive.drive import GoogleDrive\r\n",
        "from google.colab import auth\r\n",
        "from oauth2client.client import GoogleCredentials\r\n",
        "\r\n",
        "# Authenticate and create the PyDrive client.\r\n",
        "# This only needs to be done once per notebook.\r\n",
        "auth.authenticate_user()\r\n",
        "gauth = GoogleAuth()\r\n",
        "gauth.credentials = GoogleCredentials.get_application_default()\r\n",
        "drive = GoogleDrive(gauth)\r\n",
        "\r\n",
        "# Download a file based on its file ID.\r\n",
        "#\r\n",
        "# A file ID looks like: laggVyWshwcyP6kEI-y_W3P8D26sz\r\n",
        "file_id = '1RkpaZrtAc0WApd2lTPcPqEwDLy_c89ZY'\r\n",
        "downloaded = drive.CreateFile({'id': file_id})\r\n",
        "print('Downloaded content \"{}\"'.format(downloaded.GetContentString()))"
      ],
      "id": "0uDK8IoSXX0q",
      "execution_count": 3,
      "outputs": [
        {
          "output_type": "stream",
          "text": [
            "IOPub data rate exceeded.\n",
            "The notebook server will temporarily stop sending output\n",
            "to the client in order to avoid crashing it.\n",
            "To change this limit, set the config variable\n",
            "`--NotebookApp.iopub_data_rate_limit`.\n",
            "\n",
            "Current values:\n",
            "NotebookApp.iopub_data_rate_limit=1000000.0 (bytes/sec)\n",
            "NotebookApp.rate_limit_window=3.0 (secs)\n",
            "\n"
          ],
          "name": "stderr"
        }
      ]
    },
    {
      "cell_type": "code",
      "metadata": {
        "id": "aI_7vBFRXc3w"
      },
      "source": [
        "import pandas as pd\r\n",
        "\r\n",
        "downloaded.GetContentFile(\"output_data.csv\")\r\n",
        "resp = pd.read_csv(\"output_data.csv\")"
      ],
      "id": "aI_7vBFRXc3w",
      "execution_count": 5,
      "outputs": []
    },
    {
      "cell_type": "markdown",
      "metadata": {
        "id": "invisible-confidentiality"
      },
      "source": [
        "## Using PCA to decide Action"
      ],
      "id": "invisible-confidentiality"
    },
    {
      "cell_type": "code",
      "metadata": {
        "id": "retired-exploration"
      },
      "source": [
        "from sklearn.decomposition import PCA\n",
        "import numpy as np\n",
        "\n",
        "pca = PCA(n_components = 1)\n",
        "resp_pca = pca.fit_transform(resp)\n",
        "y = (resp_pca > 0).astype(\"int\")\n",
        "y = np.ravel(y)"
      ],
      "id": "retired-exploration",
      "execution_count": 7,
      "outputs": []
    },
    {
      "cell_type": "markdown",
      "metadata": {
        "id": "israeli-oxford"
      },
      "source": [
        "## Split to Train and Test data"
      ],
      "id": "israeli-oxford"
    },
    {
      "cell_type": "code",
      "metadata": {
        "id": "organic-thunder"
      },
      "source": [
        "from sklearn.model_selection import train_test_split\n",
        "\n",
        "x_train, x_test, y_train, y_test = train_test_split(x, y, test_size = 0.5, random_state = 1)"
      ],
      "id": "organic-thunder",
      "execution_count": null,
      "outputs": []
    },
    {
      "cell_type": "markdown",
      "metadata": {
        "id": "agreed-laser"
      },
      "source": [
        "# Model fitting without denoising"
      ],
      "id": "agreed-laser"
    },
    {
      "cell_type": "markdown",
      "metadata": {
        "id": "breeding-legend"
      },
      "source": [
        "## k-Nearest Neighbor"
      ],
      "id": "breeding-legend"
    },
    {
      "cell_type": "code",
      "metadata": {
        "id": "rocky-beach"
      },
      "source": [
        "from sklearn.neighbors import KNeighborsClassifier\n",
        "from sklearn.metrics import accuracy_score\n",
        "\n",
        "# fit model\n",
        "clf = KNeighborsClassifier()\n",
        "clf.fit(x_train, y_train)\n",
        "\n",
        "# predictions on training set\n",
        "yhat_train = clf.predict(x_train)\n",
        "print(\"Train MSE:\", accuracy_score(y_train, yhat_train))\n",
        "\n",
        "# predictions on test set\n",
        "yhat_test = clf.predict(x_test)\n",
        "print(\"Test MSE:\", accuracy_score(y_test, yhat_test))"
      ],
      "id": "rocky-beach",
      "execution_count": null,
      "outputs": []
    },
    {
      "cell_type": "markdown",
      "metadata": {
        "id": "acceptable-freight"
      },
      "source": [
        "## Decision Tree"
      ],
      "id": "acceptable-freight"
    },
    {
      "cell_type": "code",
      "metadata": {
        "id": "fabulous-upper"
      },
      "source": [
        "from sklearn.tree import DecisionTreeClassifier\n",
        "\n",
        "# fit model\n",
        "clf = DecisionTreeClassifier()\n",
        "clf.fit(x_train, y_train)\n",
        "\n",
        "# predictions on training set\n",
        "yhat_train = clf.predict(x_train)\n",
        "print(\"Train MSE:\", accuracy_score(y_train, yhat_train))\n",
        "\n",
        "# predictions on test set\n",
        "yhat_test = clf.predict(x_test)\n",
        "print(\"Test MSE:\", accuracy_score(y_test, yhat_test))"
      ],
      "id": "fabulous-upper",
      "execution_count": null,
      "outputs": []
    },
    {
      "cell_type": "markdown",
      "metadata": {
        "id": "emerging-cheat"
      },
      "source": [
        "## Random Forest"
      ],
      "id": "emerging-cheat"
    },
    {
      "cell_type": "code",
      "metadata": {
        "id": "opening-vehicle"
      },
      "source": [
        "from sklearn.ensemble import RandomForestClassifier\n",
        "\n",
        "# fit model\n",
        "clf = RandomForestClassifier(n_estimators = 200, criterion = 'gini')\n",
        "clf.fit(x_train, y_train)\n",
        "\n",
        "# predictions on training set\n",
        "yhat_train = clf.predict(x_train)\n",
        "print(\"Train MSE:\", accuracy_score(y_train, yhat_train))\n",
        "\n",
        "# predictions on test set\n",
        "yhat_test = clf.predict(x_test)\n",
        "print(\"Test MSE:\", accuracy_score(y_test, yhat_test))"
      ],
      "id": "opening-vehicle",
      "execution_count": null,
      "outputs": []
    },
    {
      "cell_type": "markdown",
      "metadata": {
        "id": "perceived-magic"
      },
      "source": [
        "## SVM"
      ],
      "id": "perceived-magic"
    },
    {
      "cell_type": "markdown",
      "metadata": {
        "id": "equivalent-eugene"
      },
      "source": [
        "### Linear Kernel"
      ],
      "id": "equivalent-eugene"
    },
    {
      "cell_type": "code",
      "metadata": {
        "id": "unsigned-acrobat"
      },
      "source": [
        "from sklearn.svm import SVC\n",
        "\n",
        "# fit model\n",
        "clf = SVC(kernel = \"linear\")\n",
        "clf.fit(x_train, y_train)\n",
        "\n",
        "# predictions on training set\n",
        "yhat_train = clf.predict(x_train)\n",
        "print(\"Train MSE:\", accuracy_score(y_train, yhat_train))\n",
        "\n",
        "# predictions on test set\n",
        "yhat_test = clf.predict(x_test)\n",
        "print(\"Test MSE:\", accuracy_score(y_test, yhat_test))"
      ],
      "id": "unsigned-acrobat",
      "execution_count": null,
      "outputs": []
    },
    {
      "cell_type": "markdown",
      "metadata": {
        "id": "ahead-cathedral"
      },
      "source": [
        "### RBF Kernel"
      ],
      "id": "ahead-cathedral"
    },
    {
      "cell_type": "code",
      "metadata": {
        "id": "three-baking"
      },
      "source": [
        "# fit model\n",
        "clf = SVC(kernel = \"rbf\")\n",
        "clf.fit(x_train, y_train)\n",
        "\n",
        "# predictions on training set\n",
        "yhat_train = clf.predict(x_train)\n",
        "print(\"Train MSE:\", accuracy_score(y_train, yhat_train))\n",
        "\n",
        "# predictions on test set\n",
        "yhat_test = clf.predict(x_test)\n",
        "print(\"Test MSE:\", accuracy_score(y_test, yhat_test))"
      ],
      "id": "three-baking",
      "execution_count": null,
      "outputs": []
    },
    {
      "cell_type": "markdown",
      "metadata": {
        "id": "every-gauge"
      },
      "source": [
        "### Sigmoid Kernel"
      ],
      "id": "every-gauge"
    },
    {
      "cell_type": "code",
      "metadata": {
        "id": "stylish-brook"
      },
      "source": [
        "# fit model\n",
        "clf = SVC(kernel = \"sigmoid\")\n",
        "clf.fit(x_train, y_train)\n",
        "\n",
        "# predictions on training set\n",
        "yhat_train = clf.predict(x_train)\n",
        "print(\"Train MSE:\", accuracy_score(y_train, yhat_train))\n",
        "\n",
        "# predictions on test set\n",
        "yhat_test = clf.predict(x_test)\n",
        "print(\"Test MSE:\", accuracy_score(y_test, yhat_test))"
      ],
      "id": "stylish-brook",
      "execution_count": null,
      "outputs": []
    },
    {
      "cell_type": "markdown",
      "metadata": {
        "id": "alive-coffee"
      },
      "source": [
        "### Polynomial Kernel"
      ],
      "id": "alive-coffee"
    },
    {
      "cell_type": "code",
      "metadata": {
        "id": "absent-actor"
      },
      "source": [
        "# fit model\n",
        "clf = SVC(kernel = \"poly\", degree=2)\n",
        "clf.fit(x_train, y_train)\n",
        "\n",
        "# predictions on training set\n",
        "yhat_train = clf.predict(x_train)\n",
        "print(\"Train MSE:\", accuracy_score(y_train, yhat_train))\n",
        "\n",
        "# predictions on test set\n",
        "yhat_test = clf.predict(x_test)\n",
        "print(\"Test MSE:\", accuracy_score(y_test, yhat_test))"
      ],
      "id": "absent-actor",
      "execution_count": null,
      "outputs": []
    },
    {
      "cell_type": "markdown",
      "metadata": {
        "id": "focal-pepper"
      },
      "source": [
        "# Model fitting with denoising"
      ],
      "id": "focal-pepper"
    },
    {
      "cell_type": "code",
      "metadata": {
        "id": "broken-norman"
      },
      "source": [
        ""
      ],
      "id": "broken-norman",
      "execution_count": null,
      "outputs": []
    }
  ]
}