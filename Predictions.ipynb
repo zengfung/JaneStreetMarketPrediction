{
 "cells": [
  {
   "cell_type": "markdown",
   "id": "operating-phrase",
   "metadata": {},
   "source": [
    "## Import Dataset"
   ]
  },
  {
   "cell_type": "code",
   "execution_count": 1,
   "id": "efficient-wilson",
   "metadata": {},
   "outputs": [],
   "source": [
    "import pandas as pd\n",
    "import numpy as np\n",
    "\n",
    "x = pd.read_csv(\"./dataset/input_data.csv\")\n",
    "resp = pd.read_csv(\"./dataset/output_data.csv\")"
   ]
  },
  {
   "cell_type": "markdown",
   "id": "invisible-confidentiality",
   "metadata": {},
   "source": [
    "## Using PCA to decide Action"
   ]
  },
  {
   "cell_type": "code",
   "execution_count": 2,
   "id": "retired-exploration",
   "metadata": {},
   "outputs": [],
   "source": [
    "from sklearn.decomposition import PCA\n",
    "\n",
    "pca = PCA(n_components = 1)\n",
    "resp_pca = pca.fit_transform(resp)\n",
    "y = (resp_pca > 0).astype(\"int\")\n",
    "y = np.ravel(y)"
   ]
  },
  {
   "cell_type": "markdown",
   "id": "israeli-oxford",
   "metadata": {},
   "source": [
    "## Split to Train and Test data"
   ]
  },
  {
   "cell_type": "code",
   "execution_count": 3,
   "id": "organic-thunder",
   "metadata": {},
   "outputs": [],
   "source": [
    "from sklearn.model_selection import train_test_split\n",
    "\n",
    "x_train, x_test, y_train, y_test = train_test_split(x, y, test_size = 0.5, random_state = 1)"
   ]
  },
  {
   "cell_type": "markdown",
   "id": "agreed-laser",
   "metadata": {},
   "source": [
    "# Model fitting without denoising"
   ]
  },
  {
   "cell_type": "markdown",
   "id": "breeding-legend",
   "metadata": {},
   "source": [
    "## k-Nearest Neighbor"
   ]
  },
  {
   "cell_type": "code",
   "execution_count": null,
   "id": "rocky-beach",
   "metadata": {},
   "outputs": [],
   "source": [
    "from sklearn.neighbors import KNeighborsClassifier\n",
    "from sklearn.metrics import accuracy_score\n",
    "\n",
    "# fit model\n",
    "clf = KNeighborsClassifier()\n",
    "clf.fit(x_train, y_train)\n",
    "\n",
    "# predictions on training set\n",
    "yhat_train = clf.predict(x_train)\n",
    "print(\"Train MSE:\", accuracy_score(y_train, yhat_train))\n",
    "\n",
    "# predictions on test set\n",
    "yhat_test = clf.predict(x_test)\n",
    "print(\"Test MSE:\", accuracy_score(y_test, yhat_test))"
   ]
  },
  {
   "cell_type": "markdown",
   "id": "acceptable-freight",
   "metadata": {},
   "source": [
    "## Decision Tree"
   ]
  },
  {
   "cell_type": "code",
   "execution_count": null,
   "id": "fabulous-upper",
   "metadata": {},
   "outputs": [],
   "source": [
    "from sklearn.tree import DecisionTreeClassifier\n",
    "\n",
    "# fit model\n",
    "clf = DecisionTreeClassifier()\n",
    "clf.fit(x_train, y_train)\n",
    "\n",
    "# predictions on training set\n",
    "yhat_train = clf.predict(x_train)\n",
    "print(\"Train MSE:\", accuracy_score(y_train, yhat_train))\n",
    "\n",
    "# predictions on test set\n",
    "yhat_test = clf.predict(x_test)\n",
    "print(\"Test MSE:\", accuracy_score(y_test, yhat_test))"
   ]
  },
  {
   "cell_type": "markdown",
   "id": "emerging-cheat",
   "metadata": {},
   "source": [
    "## Random Forest"
   ]
  },
  {
   "cell_type": "code",
   "execution_count": null,
   "id": "opening-vehicle",
   "metadata": {},
   "outputs": [],
   "source": [
    "from sklearn.ensemble import RandomForestClassifier\n",
    "\n",
    "# fit model\n",
    "clf = RandomForestClassifier(n_estimators = 200, criterion = 'gini')\n",
    "clf.fit(x_train, y_train)\n",
    "\n",
    "# predictions on training set\n",
    "yhat_train = clf.predict(x_train)\n",
    "print(\"Train MSE:\", accuracy_score(y_train, yhat_train))\n",
    "\n",
    "# predictions on test set\n",
    "yhat_test = clf.predict(x_test)\n",
    "print(\"Test MSE:\", accuracy_score(y_test, yhat_test))"
   ]
  },
  {
   "cell_type": "markdown",
   "id": "perceived-magic",
   "metadata": {},
   "source": [
    "## SVM"
   ]
  },
  {
   "cell_type": "markdown",
   "id": "equivalent-eugene",
   "metadata": {},
   "source": [
    "### Linear Kernel"
   ]
  },
  {
   "cell_type": "code",
   "execution_count": null,
   "id": "unsigned-acrobat",
   "metadata": {},
   "outputs": [],
   "source": [
    "from sklearn.svm import SVC\n",
    "\n",
    "# fit model\n",
    "clf = SVC(kernel = \"linear\")\n",
    "clf.fit(x_train, y_train)\n",
    "\n",
    "# predictions on training set\n",
    "yhat_train = clf.predict(x_train)\n",
    "print(\"Train MSE:\", accuracy_score(y_train, yhat_train))\n",
    "\n",
    "# predictions on test set\n",
    "yhat_test = clf.predict(x_test)\n",
    "print(\"Test MSE:\", accuracy_score(y_test, yhat_test))"
   ]
  },
  {
   "cell_type": "markdown",
   "id": "ahead-cathedral",
   "metadata": {},
   "source": [
    "### RBF Kernel"
   ]
  },
  {
   "cell_type": "code",
   "execution_count": null,
   "id": "three-baking",
   "metadata": {},
   "outputs": [],
   "source": [
    "# fit model\n",
    "clf = SVC(kernel = \"rbf\")\n",
    "clf.fit(x_train, y_train)\n",
    "\n",
    "# predictions on training set\n",
    "yhat_train = clf.predict(x_train)\n",
    "print(\"Train MSE:\", accuracy_score(y_train, yhat_train))\n",
    "\n",
    "# predictions on test set\n",
    "yhat_test = clf.predict(x_test)\n",
    "print(\"Test MSE:\", accuracy_score(y_test, yhat_test))"
   ]
  },
  {
   "cell_type": "markdown",
   "id": "every-gauge",
   "metadata": {},
   "source": [
    "### Sigmoid Kernel"
   ]
  },
  {
   "cell_type": "code",
   "execution_count": null,
   "id": "stylish-brook",
   "metadata": {},
   "outputs": [],
   "source": [
    "# fit model\n",
    "clf = SVC(kernel = \"sigmoid\")\n",
    "clf.fit(x_train, y_train)\n",
    "\n",
    "# predictions on training set\n",
    "yhat_train = clf.predict(x_train)\n",
    "print(\"Train MSE:\", accuracy_score(y_train, yhat_train))\n",
    "\n",
    "# predictions on test set\n",
    "yhat_test = clf.predict(x_test)\n",
    "print(\"Test MSE:\", accuracy_score(y_test, yhat_test))"
   ]
  },
  {
   "cell_type": "markdown",
   "id": "alive-coffee",
   "metadata": {},
   "source": [
    "### Polynomial Kernel"
   ]
  },
  {
   "cell_type": "code",
   "execution_count": null,
   "id": "absent-actor",
   "metadata": {},
   "outputs": [],
   "source": [
    "# fit model\n",
    "clf = SVC(kernel = \"poly\", degree=2)\n",
    "clf.fit(x_train, y_train)\n",
    "\n",
    "# predictions on training set\n",
    "yhat_train = clf.predict(x_train)\n",
    "print(\"Train MSE:\", accuracy_score(y_train, yhat_train))\n",
    "\n",
    "# predictions on test set\n",
    "yhat_test = clf.predict(x_test)\n",
    "print(\"Test MSE:\", accuracy_score(y_test, yhat_test))"
   ]
  },
  {
   "cell_type": "markdown",
   "id": "focal-pepper",
   "metadata": {},
   "source": [
    "# Model fitting with denoising"
   ]
  },
  {
   "cell_type": "code",
   "execution_count": null,
   "id": "broken-norman",
   "metadata": {},
   "outputs": [],
   "source": []
  }
 ],
 "metadata": {
  "kernelspec": {
   "display_name": "Python 3",
   "language": "python",
   "name": "python3"
  },
  "language_info": {
   "codemirror_mode": {
    "name": "ipython",
    "version": 3
   },
   "file_extension": ".py",
   "mimetype": "text/x-python",
   "name": "python",
   "nbconvert_exporter": "python",
   "pygments_lexer": "ipython3",
   "version": "3.7.7"
  },
  "latex_envs": {
   "LaTeX_envs_menu_present": true,
   "autoclose": true,
   "autocomplete": true,
   "bibliofile": "biblio.bib",
   "cite_by": "apalike",
   "current_citInitial": 1,
   "eqLabelWithNumbers": true,
   "eqNumInitial": 1,
   "hotkeys": {
    "equation": "Ctrl-E",
    "itemize": "Ctrl-I"
   },
   "labels_anchors": false,
   "latex_user_defs": false,
   "report_style_numbering": false,
   "user_envs_cfg": false
  },
  "varInspector": {
   "cols": {
    "lenName": 16,
    "lenType": 16,
    "lenVar": 40
   },
   "kernels_config": {
    "python": {
     "delete_cmd_postfix": "",
     "delete_cmd_prefix": "del ",
     "library": "var_list.py",
     "varRefreshCmd": "print(var_dic_list())"
    },
    "r": {
     "delete_cmd_postfix": ") ",
     "delete_cmd_prefix": "rm(",
     "library": "var_list.r",
     "varRefreshCmd": "cat(var_dic_list()) "
    }
   },
   "types_to_exclude": [
    "module",
    "function",
    "builtin_function_or_method",
    "instance",
    "_Feature"
   ],
   "window_display": false
  }
 },
 "nbformat": 4,
 "nbformat_minor": 5
}
